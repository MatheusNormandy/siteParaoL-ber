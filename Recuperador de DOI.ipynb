{
  "cells": [
    {
      "cell_type": "markdown",
      "metadata": {
        "id": "view-in-github",
        "colab_type": "text"
      },
      "source": [
        "<a href=\"https://colab.research.google.com/github/MatheusNormandy/siteParaoL-ber/blob/main/Recuperador%20de%20DOI.ipynb\" target=\"_parent\"><img src=\"https://colab.research.google.com/assets/colab-badge.svg\" alt=\"Open In Colab\"/></a>"
      ]
    },
    {
      "cell_type": "markdown",
      "source": [
        "# Iniciação das API's"
      ],
      "metadata": {
        "id": "De9TiIm4RZSg"
      }
    },
    {
      "cell_type": "code",
      "source": [
        "pip install crossrefapi"
      ],
      "metadata": {
        "id": "dLYlcXcGB-gD",
        "outputId": "0b5f9a2a-f4d4-4b08-ec64-400acf83b389",
        "colab": {
          "base_uri": "https://localhost:8080/"
        }
      },
      "execution_count": 1,
      "outputs": [
        {
          "output_type": "stream",
          "name": "stdout",
          "text": [
            "Requirement already satisfied: crossrefapi in /usr/local/lib/python3.10/dist-packages (1.6.0)\n",
            "Requirement already satisfied: requests<3.0.0,>=2.31.0 in /usr/local/lib/python3.10/dist-packages (from crossrefapi) (2.31.0)\n",
            "Requirement already satisfied: urllib3==1.26.16 in /usr/local/lib/python3.10/dist-packages (from crossrefapi) (1.26.16)\n",
            "Requirement already satisfied: charset-normalizer<4,>=2 in /usr/local/lib/python3.10/dist-packages (from requests<3.0.0,>=2.31.0->crossrefapi) (2.0.12)\n",
            "Requirement already satisfied: idna<4,>=2.5 in /usr/local/lib/python3.10/dist-packages (from requests<3.0.0,>=2.31.0->crossrefapi) (3.4)\n",
            "Requirement already satisfied: certifi>=2017.4.17 in /usr/local/lib/python3.10/dist-packages (from requests<3.0.0,>=2.31.0->crossrefapi) (2023.7.22)\n"
          ]
        }
      ]
    },
    {
      "cell_type": "code",
      "source": [
        "pip install pandas"
      ],
      "metadata": {
        "id": "u-tR_NRAPqeS",
        "outputId": "4bc2dae0-9356-41ed-cc11-8ff075e1ed60",
        "colab": {
          "base_uri": "https://localhost:8080/"
        }
      },
      "execution_count": 2,
      "outputs": [
        {
          "output_type": "stream",
          "name": "stdout",
          "text": [
            "Requirement already satisfied: pandas in /usr/local/lib/python3.10/dist-packages (1.5.3)\n",
            "Requirement already satisfied: python-dateutil>=2.8.1 in /usr/local/lib/python3.10/dist-packages (from pandas) (2.8.2)\n",
            "Requirement already satisfied: pytz>=2020.1 in /usr/local/lib/python3.10/dist-packages (from pandas) (2022.7.1)\n",
            "Requirement already satisfied: numpy>=1.21.0 in /usr/local/lib/python3.10/dist-packages (from pandas) (1.22.4)\n",
            "Requirement already satisfied: six>=1.5 in /usr/local/lib/python3.10/dist-packages (from python-dateutil>=2.8.1->pandas) (1.16.0)\n"
          ]
        }
      ]
    },
    {
      "cell_type": "markdown",
      "source": [
        "# Importando as bibliotecas do pandas e da crossref"
      ],
      "metadata": {
        "id": "3WaLX9v6RdZr"
      }
    },
    {
      "cell_type": "code",
      "source": [
        "import pandas as pd"
      ],
      "metadata": {
        "id": "BbdyBM3WCMn7"
      },
      "execution_count": 3,
      "outputs": []
    },
    {
      "cell_type": "code",
      "source": [
        "from crossref.restful import Works\n",
        "\n",
        "works = Works()"
      ],
      "metadata": {
        "id": "ye8kAjJjCcFL"
      },
      "execution_count": 4,
      "outputs": []
    },
    {
      "cell_type": "markdown",
      "source": [
        "# Recuperando e tratando os dados em formato de tabela"
      ],
      "metadata": {
        "id": "G_FoBNvPRhwN"
      }
    },
    {
      "cell_type": "code",
      "source": [
        "print('Insira o DOI ou a URL do artigo \\n')\n",
        "insert_doi = input()\n",
        "library = works.doi(insert_doi)\n",
        "columns = pd.Series(library)\n",
        "print(columns)"
      ],
      "metadata": {
        "id": "-wgPMoVKEPil",
        "outputId": "638c010f-22e1-4974-e2ff-3bb77ca61c9e",
        "colab": {
          "base_uri": "https://localhost:8080/"
        }
      },
      "execution_count": 36,
      "outputs": [
        {
          "output_type": "stream",
          "name": "stdout",
          "text": [
            "Insira o DOI ou a URL do artigo \n",
            "\n",
            "http://www.headachemedicine.com.br/index.php/headache_medicine/index\n",
            "Series([], dtype: float64)\n"
          ]
        },
        {
          "output_type": "stream",
          "name": "stderr",
          "text": [
            "<ipython-input-36-d0770b3c03cd>:4: FutureWarning: The default dtype for empty Series will be 'object' instead of 'float64' in a future version. Specify a dtype explicitly to silence this warning.\n",
            "  columns = pd.Series(library)\n"
          ]
        }
      ]
    },
    {
      "cell_type": "code",
      "source": [
        "col_author = print(columns.author)"
      ],
      "metadata": {
        "id": "GRE9P1RfJoof",
        "outputId": "2112da1e-b7ea-4c0d-d6de-e478cce2ebe5",
        "colab": {
          "base_uri": "https://localhost:8080/"
        }
      },
      "execution_count": 26,
      "outputs": [
        {
          "output_type": "stream",
          "name": "stdout",
          "text": [
            "[{'ORCID': 'http://orcid.org/0000-0001-8593-3085', 'authenticated-orcid': False, 'given': 'Raquel', 'family': 'Rachid', 'sequence': 'first', 'affiliation': [{'name': 'Fundação Oswaldo Cruz (Fiocruz),  Brazil'}]}, {'ORCID': 'http://orcid.org/0000-0002-0379-5801', 'authenticated-orcid': False, 'given': 'Marcelo', 'family': 'Fornazin', 'sequence': 'additional', 'affiliation': [{'name': 'Fiocruz,  Brazil'}]}, {'ORCID': 'http://orcid.org/0000-0002-9376-5103', 'authenticated-orcid': False, 'given': 'Leonardo', 'family': 'Castro', 'sequence': 'additional', 'affiliation': [{'name': 'Fiocruz,  Brazil'}]}, {'ORCID': 'http://orcid.org/0000-0003-4226-4189', 'authenticated-orcid': False, 'given': 'Luis Henrique', 'family': 'Gonçalves', 'sequence': 'additional', 'affiliation': [{'name': 'Fundação Oswaldo Cruz (Fiocruz),  Brazil'}]}, {'ORCID': 'http://orcid.org/0000-0002-8366-5512', 'authenticated-orcid': False, 'given': 'Bruno Elias', 'family': 'Penteado', 'sequence': 'additional', 'affiliation': [{'name': 'Fundação Oswaldo Cruz (Fiocruz),  Brazil'}]}]\n"
          ]
        }
      ]
    },
    {
      "cell_type": "code",
      "source": [
        "df = pd.DataFrame(columns.author)\n",
        "print('ORCID \\n')\n",
        "display(df['ORCID'])\n",
        "print('')\n",
        "print('Autor \\n')\n",
        "display(df['affiliation'])"
      ],
      "metadata": {
        "id": "r79LVyYXWHRL",
        "outputId": "be213320-123c-4b58-d401-24f4a113da28",
        "colab": {
          "base_uri": "https://localhost:8080/",
          "height": 312
        }
      },
      "execution_count": 32,
      "outputs": [
        {
          "output_type": "stream",
          "name": "stdout",
          "text": [
            "ORCID \n",
            "\n"
          ]
        },
        {
          "output_type": "display_data",
          "data": {
            "text/plain": [
              "0    http://orcid.org/0000-0001-8593-3085\n",
              "1    http://orcid.org/0000-0002-0379-5801\n",
              "2    http://orcid.org/0000-0002-9376-5103\n",
              "3    http://orcid.org/0000-0003-4226-4189\n",
              "4    http://orcid.org/0000-0002-8366-5512\n",
              "Name: ORCID, dtype: object"
            ]
          },
          "metadata": {}
        },
        {
          "output_type": "stream",
          "name": "stdout",
          "text": [
            "\n",
            "Autor \n",
            "\n"
          ]
        },
        {
          "output_type": "display_data",
          "data": {
            "text/plain": [
              "0    [{'name': 'Fundação Oswaldo Cruz (Fiocruz),  B...\n",
              "1                       [{'name': 'Fiocruz,  Brazil'}]\n",
              "2                       [{'name': 'Fiocruz,  Brazil'}]\n",
              "3    [{'name': 'Fundação Oswaldo Cruz (Fiocruz),  B...\n",
              "4    [{'name': 'Fundação Oswaldo Cruz (Fiocruz),  B...\n",
              "Name: affiliation, dtype: object"
            ]
          },
          "metadata": {}
        }
      ]
    },
    {
      "cell_type": "code",
      "source": [
        "works.query('https://pubmed.ncbi.nlm.nih.gov/27834408/').url"
      ],
      "metadata": {
        "id": "hF378OgraE3i",
        "outputId": "98edeb91-e41c-4580-a4f3-71b4e21d59e5",
        "colab": {
          "base_uri": "https://localhost:8080/",
          "height": 35
        }
      },
      "execution_count": 41,
      "outputs": [
        {
          "output_type": "execute_result",
          "data": {
            "text/plain": [
              "'https://api.crossref.org/works?query=https%3A%2F%2Fpubmed.ncbi.nlm.nih.gov%2F27834408%2F'"
            ],
            "application/vnd.google.colaboratory.intrinsic+json": {
              "type": "string"
            }
          },
          "metadata": {},
          "execution_count": 41
        }
      ]
    }
  ],
  "metadata": {
    "colab": {
      "name": "Olá, este é o Colaboratory",
      "toc_visible": true,
      "provenance": [],
      "include_colab_link": true
    },
    "kernelspec": {
      "display_name": "Python 3",
      "name": "python3"
    }
  },
  "nbformat": 4,
  "nbformat_minor": 0
}