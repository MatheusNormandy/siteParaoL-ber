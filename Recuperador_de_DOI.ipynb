{
  "cells": [
    {
      "cell_type": "markdown",
      "metadata": {
        "id": "view-in-github",
        "colab_type": "text"
      },
      "source": [
        "<a href=\"https://colab.research.google.com/github/MatheusNormandy/siteParaoL-ber/blob/main/Recuperador_de_DOI.ipynb\" target=\"_parent\"><img src=\"https://colab.research.google.com/assets/colab-badge.svg\" alt=\"Open In Colab\"/></a>"
      ]
    },
    {
      "cell_type": "markdown",
      "source": [
        "# Iniciação das API's"
      ],
      "metadata": {
        "id": "De9TiIm4RZSg"
      }
    },
    {
      "cell_type": "code",
      "source": [
        "pip install crossrefapi"
      ],
      "metadata": {
        "colab": {
          "base_uri": "https://localhost:8080/"
        },
        "id": "dLYlcXcGB-gD",
        "outputId": "0b5f9a2a-f4d4-4b08-ec64-400acf83b389"
      },
      "execution_count": 1,
      "outputs": [
        {
          "output_type": "stream",
          "name": "stdout",
          "text": [
            "Requirement already satisfied: crossrefapi in /usr/local/lib/python3.10/dist-packages (1.6.0)\n",
            "Requirement already satisfied: requests<3.0.0,>=2.31.0 in /usr/local/lib/python3.10/dist-packages (from crossrefapi) (2.31.0)\n",
            "Requirement already satisfied: urllib3==1.26.16 in /usr/local/lib/python3.10/dist-packages (from crossrefapi) (1.26.16)\n",
            "Requirement already satisfied: charset-normalizer<4,>=2 in /usr/local/lib/python3.10/dist-packages (from requests<3.0.0,>=2.31.0->crossrefapi) (2.0.12)\n",
            "Requirement already satisfied: idna<4,>=2.5 in /usr/local/lib/python3.10/dist-packages (from requests<3.0.0,>=2.31.0->crossrefapi) (3.4)\n",
            "Requirement already satisfied: certifi>=2017.4.17 in /usr/local/lib/python3.10/dist-packages (from requests<3.0.0,>=2.31.0->crossrefapi) (2023.7.22)\n"
          ]
        }
      ]
    },
    {
      "cell_type": "code",
      "source": [
        "pip install pandas"
      ],
      "metadata": {
        "colab": {
          "base_uri": "https://localhost:8080/"
        },
        "id": "u-tR_NRAPqeS",
        "outputId": "4bc2dae0-9356-41ed-cc11-8ff075e1ed60"
      },
      "execution_count": 2,
      "outputs": [
        {
          "output_type": "stream",
          "name": "stdout",
          "text": [
            "Requirement already satisfied: pandas in /usr/local/lib/python3.10/dist-packages (1.5.3)\n",
            "Requirement already satisfied: python-dateutil>=2.8.1 in /usr/local/lib/python3.10/dist-packages (from pandas) (2.8.2)\n",
            "Requirement already satisfied: pytz>=2020.1 in /usr/local/lib/python3.10/dist-packages (from pandas) (2022.7.1)\n",
            "Requirement already satisfied: numpy>=1.21.0 in /usr/local/lib/python3.10/dist-packages (from pandas) (1.22.4)\n",
            "Requirement already satisfied: six>=1.5 in /usr/local/lib/python3.10/dist-packages (from python-dateutil>=2.8.1->pandas) (1.16.0)\n"
          ]
        }
      ]
    },
    {
      "cell_type": "markdown",
      "source": [
        "# Importando as bibliotecas do pandas e da crossref"
      ],
      "metadata": {
        "id": "3WaLX9v6RdZr"
      }
    },
    {
      "cell_type": "code",
      "source": [
        "import pandas as pd"
      ],
      "metadata": {
        "id": "BbdyBM3WCMn7"
      },
      "execution_count": 3,
      "outputs": []
    },
    {
      "cell_type": "code",
      "source": [
        "from crossref.restful import Works\n",
        "\n",
        "works = Works()"
      ],
      "metadata": {
        "id": "ye8kAjJjCcFL"
      },
      "execution_count": 4,
      "outputs": []
    },
    {
      "cell_type": "markdown",
      "source": [
        "# Recuperando e tratando os dados em formato de tabela"
      ],
      "metadata": {
        "id": "G_FoBNvPRhwN"
      }
    },
    {
      "cell_type": "code",
      "source": [
        "print('Insira o DOI ou a URL do artigo \\n')\n",
        "insert_doi = input()\n",
        "library = works.doi(insert_doi)\n",
        "columns = pd.Series(library)\n",
        "print(columns)"
      ],
      "metadata": {
        "colab": {
          "base_uri": "https://localhost:8080/"
        },
        "id": "-wgPMoVKEPil",
        "outputId": "3ac71fb5-0978-4318-9800-4494932481c5"
      },
      "execution_count": 42,
      "outputs": [
        {
          "output_type": "stream",
          "name": "stdout",
          "text": [
            "Insira o DOI ou a URL do artigo \n",
            "\n",
            "https://doi.org/10.1590/1413-81232023287.14302022\n",
            "indexed                   {'date-parts': [[2023, 7, 8]], 'date-time': '2...\n",
            "reference-count                                                          53\n",
            "publisher                                               FapUNIFESP (SciELO)\n",
            "issue                                                                     7\n",
            "license                   [{'start': {'date-parts': [[2023, 7, 1]], 'dat...\n",
            "content-domain               {'domain': [], 'crossmark-restriction': False}\n",
            "short-container-title                               [Ciênc. saúde coletiva]\n",
            "abstract                  <jats:p>Resumo A implementação da saúde digita...\n",
            "DOI                                       10.1590/1413-81232023287.14302022\n",
            "type                                                        journal-article\n",
            "created                   {'date-parts': [[2023, 7, 7]], 'date-time': '2...\n",
            "page                                                              2143-2153\n",
            "source                                                             Crossref\n",
            "is-referenced-by-count                                                    0\n",
            "title                     [Saúde digital e a plataformização do Estado b...\n",
            "prefix                                                              10.1590\n",
            "volume                                                                   28\n",
            "author                    [{'ORCID': 'http://orcid.org/0000-0001-8593-30...\n",
            "member                                                                  530\n",
            "published-online                                {'date-parts': [[2023, 7]]}\n",
            "reference                 [{'key': 'ref1', 'series-title': 'Global strat...\n",
            "container-title                              [Ciência &amp; Saúde Coletiva]\n",
            "original-title            [Digital health and the platformization of the...\n",
            "link                      [{'URL': 'http://www.scielo.br/scielo.php?scri...\n",
            "deposited                 {'date-parts': [[2023, 7, 7]], 'date-time': '2...\n",
            "score                                                                     1\n",
            "resource                  {'primary': {'URL': 'http://www.scielo.br/scie...\n",
            "subtitle                                                                 []\n",
            "short-title                                                              []\n",
            "issued                                          {'date-parts': [[2023, 7]]}\n",
            "references-count                                                         53\n",
            "journal-issue             {'issue': '7', 'published-online': {'date-part...\n",
            "alternative-id                                    [S1413-81232023000702143]\n",
            "URL                       http://dx.doi.org/10.1590/1413-81232023287.143...\n",
            "relation                                                                 {}\n",
            "ISSN                                                 [1678-4561, 1413-8123]\n",
            "issn-type                 [{'value': '1678-4561', 'type': 'electronic'},...\n",
            "subject                   [Public Health, Environmental and Occupational...\n",
            "published                                       {'date-parts': [[2023, 7]]}\n",
            "dtype: object\n"
          ]
        }
      ]
    },
    {
      "cell_type": "code",
      "source": [
        "col_author = print(columns.author)"
      ],
      "metadata": {
        "colab": {
          "base_uri": "https://localhost:8080/"
        },
        "id": "GRE9P1RfJoof",
        "outputId": "64ac1836-cdc6-4e2b-f3fc-4d333455b2d1"
      },
      "execution_count": 43,
      "outputs": [
        {
          "output_type": "stream",
          "name": "stdout",
          "text": [
            "[{'ORCID': 'http://orcid.org/0000-0001-8593-3085', 'authenticated-orcid': False, 'given': 'Raquel', 'family': 'Rachid', 'sequence': 'first', 'affiliation': [{'name': 'Fundação Oswaldo Cruz (Fiocruz),  Brazil'}]}, {'ORCID': 'http://orcid.org/0000-0002-0379-5801', 'authenticated-orcid': False, 'given': 'Marcelo', 'family': 'Fornazin', 'sequence': 'additional', 'affiliation': [{'name': 'Fiocruz,  Brazil'}]}, {'ORCID': 'http://orcid.org/0000-0002-9376-5103', 'authenticated-orcid': False, 'given': 'Leonardo', 'family': 'Castro', 'sequence': 'additional', 'affiliation': [{'name': 'Fiocruz,  Brazil'}]}, {'ORCID': 'http://orcid.org/0000-0003-4226-4189', 'authenticated-orcid': False, 'given': 'Luis Henrique', 'family': 'Gonçalves', 'sequence': 'additional', 'affiliation': [{'name': 'Fundação Oswaldo Cruz (Fiocruz),  Brazil'}]}, {'ORCID': 'http://orcid.org/0000-0002-8366-5512', 'authenticated-orcid': False, 'given': 'Bruno Elias', 'family': 'Penteado', 'sequence': 'additional', 'affiliation': [{'name': 'Fundação Oswaldo Cruz (Fiocruz),  Brazil'}]}]\n"
          ]
        }
      ]
    },
    {
      "cell_type": "code",
      "source": [
        "df = pd.DataFrame(columns.author)\n",
        "print('ORCID \\n')\n",
        "display(df['ORCID'])\n",
        "print('')\n",
        "print('Autor \\n')\n",
        "display(df['affiliation'])"
      ],
      "metadata": {
        "colab": {
          "base_uri": "https://localhost:8080/",
          "height": 312
        },
        "id": "r79LVyYXWHRL",
        "outputId": "510f34f2-06b4-4e7f-dbd7-7f219fe58e77"
      },
      "execution_count": 44,
      "outputs": [
        {
          "output_type": "stream",
          "name": "stdout",
          "text": [
            "ORCID \n",
            "\n"
          ]
        },
        {
          "output_type": "display_data",
          "data": {
            "text/plain": [
              "0    http://orcid.org/0000-0001-8593-3085\n",
              "1    http://orcid.org/0000-0002-0379-5801\n",
              "2    http://orcid.org/0000-0002-9376-5103\n",
              "3    http://orcid.org/0000-0003-4226-4189\n",
              "4    http://orcid.org/0000-0002-8366-5512\n",
              "Name: ORCID, dtype: object"
            ]
          },
          "metadata": {}
        },
        {
          "output_type": "stream",
          "name": "stdout",
          "text": [
            "\n",
            "Autor \n",
            "\n"
          ]
        },
        {
          "output_type": "display_data",
          "data": {
            "text/plain": [
              "0    [{'name': 'Fundação Oswaldo Cruz (Fiocruz),  B...\n",
              "1                       [{'name': 'Fiocruz,  Brazil'}]\n",
              "2                       [{'name': 'Fiocruz,  Brazil'}]\n",
              "3    [{'name': 'Fundação Oswaldo Cruz (Fiocruz),  B...\n",
              "4    [{'name': 'Fundação Oswaldo Cruz (Fiocruz),  B...\n",
              "Name: affiliation, dtype: object"
            ]
          },
          "metadata": {}
        }
      ]
    }
  ],
  "metadata": {
    "colab": {
      "name": "Olá, este é o Colaboratory",
      "toc_visible": true,
      "provenance": [],
      "include_colab_link": true
    },
    "kernelspec": {
      "display_name": "Python 3",
      "name": "python3"
    }
  },
  "nbformat": 4,
  "nbformat_minor": 0
}